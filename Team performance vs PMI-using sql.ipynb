{
 "cells": [
  {
   "cell_type": "markdown",
   "id": "7c3b2d25",
   "metadata": {},
   "source": [
    "# A call center Team performance vs PMI"
   ]
  },
  {
   "cell_type": "code",
   "execution_count": 3,
   "id": "cc620962",
   "metadata": {},
   "outputs": [
    {
     "name": "stdout",
     "output_type": "stream",
     "text": [
      "Requirement already satisfied: mysql-connector-python in c:\\users\\user\\anaconda3\\lib\\site-packages (8.0.28)\n",
      "Requirement already satisfied: protobuf>=3.0.0 in c:\\users\\user\\anaconda3\\lib\\site-packages (from mysql-connector-python) (3.19.4)\n"
     ]
    }
   ],
   "source": [
    "!pip install mysql-connector-python"
   ]
  },
  {
   "cell_type": "code",
   "execution_count": 4,
   "id": "76810723",
   "metadata": {},
   "outputs": [],
   "source": [
    "import mysql.connector as conn"
   ]
  },
  {
   "cell_type": "code",
   "execution_count": 5,
   "id": "c7d29826",
   "metadata": {},
   "outputs": [],
   "source": [
    "mydb=conn.connect(host ='localhost',user ='root',password ='123456789')"
   ]
  },
  {
   "cell_type": "code",
   "execution_count": 6,
   "id": "6b2653e6",
   "metadata": {},
   "outputs": [
    {
     "data": {
      "text/plain": [
       "<mysql.connector.connection_cext.CMySQLConnection at 0x18d89cb7790>"
      ]
     },
     "execution_count": 6,
     "metadata": {},
     "output_type": "execute_result"
    }
   ],
   "source": [
    "mydb"
   ]
  },
  {
   "cell_type": "code",
   "execution_count": 7,
   "id": "f4c13994",
   "metadata": {},
   "outputs": [],
   "source": [
    "cursor =mydb.cursor()"
   ]
  },
  {
   "cell_type": "code",
   "execution_count": 13,
   "id": "4b3b3bfd",
   "metadata": {},
   "outputs": [],
   "source": [
    "cursor.execute(\"show databases\")"
   ]
  },
  {
   "cell_type": "code",
   "execution_count": 14,
   "id": "1f575658",
   "metadata": {},
   "outputs": [
    {
     "data": {
      "text/plain": [
       "[('ineuron',),\n",
       " ('information_schema',),\n",
       " ('mysql',),\n",
       " ('performance_schema',),\n",
       " ('sakila',),\n",
       " ('sys',),\n",
       " ('testsubhankar',),\n",
       " ('testsubhankar1',),\n",
       " ('testsudh',),\n",
       " ('testsudhineuron',),\n",
       " ('testsudhineuron1',),\n",
       " ('testsudhineuron2',),\n",
       " ('testsudhineuronsm',),\n",
       " ('world',)]"
      ]
     },
     "execution_count": 14,
     "metadata": {},
     "output_type": "execute_result"
    }
   ],
   "source": [
    "cursor.fetchall()"
   ]
  },
  {
   "cell_type": "code",
   "execution_count": 15,
   "id": "b8881665",
   "metadata": {},
   "outputs": [],
   "source": [
    "cursor =mydb.cursor()"
   ]
  },
  {
   "cell_type": "code",
   "execution_count": 16,
   "id": "2cb3e8d5",
   "metadata": {},
   "outputs": [],
   "source": [
    "cursor.execute(\"create database xyzbusinesssolution\")"
   ]
  },
  {
   "cell_type": "code",
   "execution_count": 18,
   "id": "5ba2e274",
   "metadata": {},
   "outputs": [],
   "source": [
    "cursor.execute(\"show databases\")"
   ]
  },
  {
   "cell_type": "code",
   "execution_count": 19,
   "id": "61b8dd4a",
   "metadata": {},
   "outputs": [
    {
     "data": {
      "text/plain": [
       "[('ineuron',),\n",
       " ('information_schema',),\n",
       " ('mysql',),\n",
       " ('performance_schema',),\n",
       " ('sakila',),\n",
       " ('sys',),\n",
       " ('testsubhankar',),\n",
       " ('testsubhankar1',),\n",
       " ('testsudh',),\n",
       " ('testsudhineuron',),\n",
       " ('testsudhineuron1',),\n",
       " ('testsudhineuron2',),\n",
       " ('testsudhineuronsm',),\n",
       " ('world',),\n",
       " ('xyzbusinesssolution',)]"
      ]
     },
     "execution_count": 19,
     "metadata": {},
     "output_type": "execute_result"
    }
   ],
   "source": [
    "cursor.fetchall()"
   ]
  },
  {
   "cell_type": "code",
   "execution_count": 26,
   "id": "1cf7ad18",
   "metadata": {},
   "outputs": [
    {
     "ename": "ProgrammingError",
     "evalue": "1050 (42S01): Table 'teamgouri' already exists",
     "output_type": "error",
     "traceback": [
      "\u001b[1;31m---------------------------------------------------------------------------\u001b[0m",
      "\u001b[1;31mMySQLInterfaceError\u001b[0m                       Traceback (most recent call last)",
      "\u001b[1;32m~\\anaconda3\\lib\\site-packages\\mysql\\connector\\connection_cext.py\u001b[0m in \u001b[0;36mcmd_query\u001b[1;34m(self, query, raw, buffered, raw_as_string)\u001b[0m\n\u001b[0;32m    522\u001b[0m                 \u001b[0mquery\u001b[0m \u001b[1;33m=\u001b[0m \u001b[0mquery\u001b[0m\u001b[1;33m.\u001b[0m\u001b[0mencode\u001b[0m\u001b[1;33m(\u001b[0m\u001b[1;34m'utf-8'\u001b[0m\u001b[1;33m)\u001b[0m\u001b[1;33m\u001b[0m\u001b[1;33m\u001b[0m\u001b[0m\n\u001b[1;32m--> 523\u001b[1;33m             self._cmysql.query(query,\n\u001b[0m\u001b[0;32m    524\u001b[0m                                \u001b[0mraw\u001b[0m\u001b[1;33m=\u001b[0m\u001b[0mraw\u001b[0m\u001b[1;33m,\u001b[0m \u001b[0mbuffered\u001b[0m\u001b[1;33m=\u001b[0m\u001b[0mbuffered\u001b[0m\u001b[1;33m,\u001b[0m\u001b[1;33m\u001b[0m\u001b[1;33m\u001b[0m\u001b[0m\n",
      "\u001b[1;31mMySQLInterfaceError\u001b[0m: Table 'teamgouri' already exists",
      "\nDuring handling of the above exception, another exception occurred:\n",
      "\u001b[1;31mProgrammingError\u001b[0m                          Traceback (most recent call last)",
      "\u001b[1;32m~\\AppData\\Local\\Temp/ipykernel_11120/952328212.py\u001b[0m in \u001b[0;36m<module>\u001b[1;34m\u001b[0m\n\u001b[1;32m----> 1\u001b[1;33m \u001b[0mcursor\u001b[0m\u001b[1;33m.\u001b[0m\u001b[0mexecute\u001b[0m\u001b[1;33m(\u001b[0m\u001b[1;34m'create table xyzbusinesssolution.teamgouri(employeeid INT(20),firstname VARCHAR(100),lastname VARCHAR(100),intime INT(20),outtime INT(20),teabreak1 INT(20),teabreak2 INT(20),lunchtime INT(20),bio INT(20),callcount INT(30),qualityscore INT(20),catscore INT(20))'\u001b[0m\u001b[1;33m)\u001b[0m\u001b[1;33m\u001b[0m\u001b[1;33m\u001b[0m\u001b[0m\n\u001b[0m",
      "\u001b[1;32m~\\anaconda3\\lib\\site-packages\\mysql\\connector\\cursor_cext.py\u001b[0m in \u001b[0;36mexecute\u001b[1;34m(self, operation, params, multi)\u001b[0m\n\u001b[0;32m    267\u001b[0m \u001b[1;33m\u001b[0m\u001b[0m\n\u001b[0;32m    268\u001b[0m         \u001b[1;32mtry\u001b[0m\u001b[1;33m:\u001b[0m\u001b[1;33m\u001b[0m\u001b[1;33m\u001b[0m\u001b[0m\n\u001b[1;32m--> 269\u001b[1;33m             result = self._cnx.cmd_query(stmt, raw=self._raw,\n\u001b[0m\u001b[0;32m    270\u001b[0m                                          \u001b[0mbuffered\u001b[0m\u001b[1;33m=\u001b[0m\u001b[0mself\u001b[0m\u001b[1;33m.\u001b[0m\u001b[0m_buffered\u001b[0m\u001b[1;33m,\u001b[0m\u001b[1;33m\u001b[0m\u001b[1;33m\u001b[0m\u001b[0m\n\u001b[0;32m    271\u001b[0m                                          raw_as_string=self._raw_as_string)\n",
      "\u001b[1;32m~\\anaconda3\\lib\\site-packages\\mysql\\connector\\connection_cext.py\u001b[0m in \u001b[0;36mcmd_query\u001b[1;34m(self, query, raw, buffered, raw_as_string)\u001b[0m\n\u001b[0;32m    526\u001b[0m                                query_attrs=self._query_attrs)\n\u001b[0;32m    527\u001b[0m         \u001b[1;32mexcept\u001b[0m \u001b[0mMySQLInterfaceError\u001b[0m \u001b[1;32mas\u001b[0m \u001b[0mexc\u001b[0m\u001b[1;33m:\u001b[0m\u001b[1;33m\u001b[0m\u001b[1;33m\u001b[0m\u001b[0m\n\u001b[1;32m--> 528\u001b[1;33m             raise errors.get_mysql_exception(exc.errno, msg=exc.msg,\n\u001b[0m\u001b[0;32m    529\u001b[0m                                              sqlstate=exc.sqlstate)\n\u001b[0;32m    530\u001b[0m         \u001b[1;32mexcept\u001b[0m \u001b[0mAttributeError\u001b[0m\u001b[1;33m:\u001b[0m\u001b[1;33m\u001b[0m\u001b[1;33m\u001b[0m\u001b[0m\n",
      "\u001b[1;31mProgrammingError\u001b[0m: 1050 (42S01): Table 'teamgouri' already exists"
     ]
    }
   ],
   "source": [
    "cursor.execute('create table xyzbusinesssolution.teamgouri(employeeid INT(20),firstname VARCHAR(100),lastname VARCHAR(100),intime INT(20),outtime INT(20),teabreak1 INT(20),teabreak2 INT(20),lunchtime INT(20),bio INT(20),callcount INT(30),qualityscore INT(20),catscore INT(20))')"
   ]
  },
  {
   "cell_type": "code",
   "execution_count": 21,
   "id": "d139b071",
   "metadata": {},
   "outputs": [],
   "source": [
    "cursor.execute('use xyzbusinesssolution')"
   ]
  },
  {
   "cell_type": "code",
   "execution_count": 22,
   "id": "2ec0f22e",
   "metadata": {},
   "outputs": [],
   "source": [
    "cursor.execute('show tables')"
   ]
  },
  {
   "cell_type": "code",
   "execution_count": 23,
   "id": "f7a896ad",
   "metadata": {},
   "outputs": [
    {
     "data": {
      "text/plain": [
       "[('teamgouri',)]"
      ]
     },
     "execution_count": 23,
     "metadata": {},
     "output_type": "execute_result"
    }
   ],
   "source": [
    "cursor.fetchall()"
   ]
  },
  {
   "cell_type": "code",
   "execution_count": 28,
   "id": "a45e2bad",
   "metadata": {},
   "outputs": [],
   "source": [
    "cursor.execute('insert into xyzbusinesssolution.teamgouri values(302509,\"subhankar\",\"mondal\",1300,2200,15,12,22,8,120,85,100)')"
   ]
  },
  {
   "cell_type": "code",
   "execution_count": 29,
   "id": "d36736e8",
   "metadata": {},
   "outputs": [],
   "source": [
    "cursor.execute('insert into xyzbusinesssolution.teamgouri values(312509,\"monoj\",\"mondal\",1300,2200,15,15,25,5,120,93,90)')\n",
    "cursor.execute('insert into xyzbusinesssolution.teamgouri values(362519,\"sudanshu\",\"kumar\",1310,2210,15,12,22,8,105,85,95)')\n",
    "cursor.execute('insert into xyzbusinesssolution.teamgouri values(202507,\"souvick\",\"dey\",1300,2200,15,12,22,8,120,72,72)')\n",
    "cursor.execute('insert into xyzbusinesssolution.teamgouri values(230250,\"kiran\",\"dutt\",1301,2210,15,15,22,8,120,85,100)')"
   ]
  },
  {
   "cell_type": "code",
   "execution_count": 30,
   "id": "110c631b",
   "metadata": {},
   "outputs": [],
   "source": [
    "mydb.commit()"
   ]
  },
  {
   "cell_type": "code",
   "execution_count": 31,
   "id": "a1c6eb1b",
   "metadata": {},
   "outputs": [],
   "source": [
    "cursor.execute(\"select * from xyzbusinesssolution.teamgouri\")"
   ]
  },
  {
   "cell_type": "code",
   "execution_count": 32,
   "id": "4a365ef5",
   "metadata": {},
   "outputs": [
    {
     "data": {
      "text/plain": [
       "[(302509, 'subhankar', 'mondal', 13, 22, 15, 12, 22, 8, 120, 85, 100),\n",
       " (302509, 'subhankar', 'mondal', 1300, 2200, 15, 12, 22, 8, 120, 85, 100),\n",
       " (312509, 'monoj', 'mondal', 1300, 2200, 15, 15, 25, 5, 120, 93, 90),\n",
       " (362519, 'sudanshu', 'kumar', 1310, 2210, 15, 12, 22, 8, 105, 85, 95),\n",
       " (202507, 'souvick', 'dey', 1300, 2200, 15, 12, 22, 8, 120, 72, 72),\n",
       " (230250, 'kiran', 'dutt', 1301, 2210, 15, 15, 22, 8, 120, 85, 100)]"
      ]
     },
     "execution_count": 32,
     "metadata": {},
     "output_type": "execute_result"
    }
   ],
   "source": [
    "cursor.fetchall()"
   ]
  },
  {
   "cell_type": "code",
   "execution_count": 11,
   "id": "18ddc102",
   "metadata": {},
   "outputs": [],
   "source": [
    "cursor.execute('delete from xyzbusinesssolution.teamgouri where employeeid =302509')"
   ]
  },
  {
   "cell_type": "code",
   "execution_count": 35,
   "id": "ff91312c",
   "metadata": {},
   "outputs": [],
   "source": [
    "cursor.execute(\"select * from xyzbusinesssolution.teamgouri\")"
   ]
  },
  {
   "cell_type": "code",
   "execution_count": 36,
   "id": "a622fa7a",
   "metadata": {},
   "outputs": [
    {
     "data": {
      "text/plain": [
       "[(312509, 'monoj', 'mondal', 1300, 2200, 15, 15, 25, 5, 120, 93, 90),\n",
       " (362519, 'sudanshu', 'kumar', 1310, 2210, 15, 12, 22, 8, 105, 85, 95),\n",
       " (202507, 'souvick', 'dey', 1300, 2200, 15, 12, 22, 8, 120, 72, 72),\n",
       " (230250, 'kiran', 'dutt', 1301, 2210, 15, 15, 22, 8, 120, 85, 100)]"
      ]
     },
     "execution_count": 36,
     "metadata": {},
     "output_type": "execute_result"
    }
   ],
   "source": [
    "cursor.fetchall()"
   ]
  },
  {
   "cell_type": "code",
   "execution_count": 15,
   "id": "a19ad601",
   "metadata": {},
   "outputs": [],
   "source": [
    "cursor.execute('insert into xyzbusinesssolution.teamgouri values(302509,\"subhankar\",\"mondal\",1300,2200,15,12,22,8,125,83,100)')"
   ]
  },
  {
   "cell_type": "code",
   "execution_count": 17,
   "id": "705e306e",
   "metadata": {},
   "outputs": [],
   "source": [
    "cursor.execute(\"select * from xyzbusinesssolution.teamgouri\")"
   ]
  },
  {
   "cell_type": "code",
   "execution_count": 18,
   "id": "2b9f6fd6",
   "metadata": {},
   "outputs": [
    {
     "data": {
      "text/plain": [
       "[(312509, 'monoj', 'mondal', 1300, 2200, 15, 15, 25, 5, 120, 93, 90),\n",
       " (362519, 'sudanshu', 'kumar', 1310, 2210, 15, 12, 22, 8, 105, 85, 95),\n",
       " (202507, 'souvick', 'dey', 1300, 2200, 15, 12, 22, 8, 120, 72, 72),\n",
       " (230250, 'kiran', 'dutt', 1301, 2210, 15, 15, 22, 8, 120, 85, 100),\n",
       " (302509, 'subhankar', 'mondal', 1300, 2200, 15, 12, 22, 8, 125, 83, 100)]"
      ]
     },
     "execution_count": 18,
     "metadata": {},
     "output_type": "execute_result"
    }
   ],
   "source": [
    "cursor.fetchall()"
   ]
  },
  {
   "cell_type": "code",
   "execution_count": 19,
   "id": "c9f575e7",
   "metadata": {},
   "outputs": [],
   "source": [
    "cursor.execute('create table xyzbusinesssolution.teamriya(employeeid INT(20),firstname VARCHAR(100),lastname VARCHAR(100),intime INT(20),outtime INT(20),teabreak1 INT(20),teabreak2 INT(20),lunchtime INT(20),bio INT(20),callcount INT(30),qualityscore INT(20),catscore INT(20))')"
   ]
  },
  {
   "cell_type": "code",
   "execution_count": 20,
   "id": "7badda2b",
   "metadata": {},
   "outputs": [],
   "source": [
    "cursor.execute('insert into xyzbusinesssolution.teamriya values(352528,\"sakhi\",\"prasad\",1300,2200,15,15,25,5,98,93,100)')\n",
    "cursor.execute('insert into xyzbusinesssolution.teamriya values(372511,\"sonakshi\",\"kumar\",1310,2210,15,12,22,8,105,100,95)')\n",
    "cursor.execute('insert into xyzbusinesssolution.teamriya values(212507,\"sonam\",\"dey\",1300,2200,15,12,22,8,160,72,100)')\n",
    "cursor.execute('insert into xyzbusinesssolution.teamriya values(230251,\"kiran\",\"pant\",1301,2210,15,15,22,8,180,85,100)')\n",
    "cursor.execute('insert into xyzbusinesssolution.teamriya values(330250,\"monali\",\"dutt\",1301,2210,15,15,22,8,84,95,100)')"
   ]
  },
  {
   "cell_type": "code",
   "execution_count": 21,
   "id": "b358b82c",
   "metadata": {},
   "outputs": [],
   "source": [
    "cursor.execute(\"select * from xyzbusinesssolution.teamriya\")"
   ]
  },
  {
   "cell_type": "code",
   "execution_count": 22,
   "id": "027c44ea",
   "metadata": {},
   "outputs": [
    {
     "data": {
      "text/plain": [
       "[(352528, 'sakhi', 'prasad', 1300, 2200, 15, 15, 25, 5, 98, 93, 100),\n",
       " (372511, 'sonakshi', 'kumar', 1310, 2210, 15, 12, 22, 8, 105, 100, 95),\n",
       " (212507, 'sonam', 'dey', 1300, 2200, 15, 12, 22, 8, 160, 72, 100),\n",
       " (230251, 'kiran', 'pant', 1301, 2210, 15, 15, 22, 8, 180, 85, 100),\n",
       " (330250, 'monali', 'dutt', 1301, 2210, 15, 15, 22, 8, 84, 95, 100)]"
      ]
     },
     "execution_count": 22,
     "metadata": {},
     "output_type": "execute_result"
    }
   ],
   "source": [
    "cursor.fetchall()"
   ]
  },
  {
   "cell_type": "code",
   "execution_count": 25,
   "id": "29c67861",
   "metadata": {},
   "outputs": [],
   "source": [
    "cursor.execute(\"update xyzbusinesssolution.teamriya SET employeeid =395429 where employeeid =352528\")"
   ]
  },
  {
   "cell_type": "code",
   "execution_count": 26,
   "id": "2d801c25",
   "metadata": {},
   "outputs": [],
   "source": [
    "mydb.commit()"
   ]
  },
  {
   "cell_type": "code",
   "execution_count": 27,
   "id": "e2a7ae6c",
   "metadata": {},
   "outputs": [],
   "source": [
    "cursor.execute(\"select * from xyzbusinesssolution.teamriya\")"
   ]
  },
  {
   "cell_type": "code",
   "execution_count": 28,
   "id": "f6652750",
   "metadata": {},
   "outputs": [
    {
     "data": {
      "text/plain": [
       "[(395429, 'sakhi', 'prasad', 1300, 2200, 15, 15, 25, 5, 98, 93, 100),\n",
       " (372511, 'sonakshi', 'kumar', 1310, 2210, 15, 12, 22, 8, 105, 100, 95),\n",
       " (212507, 'sonam', 'dey', 1300, 2200, 15, 12, 22, 8, 160, 72, 100),\n",
       " (230251, 'kiran', 'pant', 1301, 2210, 15, 15, 22, 8, 180, 85, 100),\n",
       " (330250, 'monali', 'dutt', 1301, 2210, 15, 15, 22, 8, 84, 95, 100)]"
      ]
     },
     "execution_count": 28,
     "metadata": {},
     "output_type": "execute_result"
    }
   ],
   "source": [
    "cursor.fetchall()"
   ]
  },
  {
   "cell_type": "code",
   "execution_count": 29,
   "id": "47895e2c",
   "metadata": {},
   "outputs": [],
   "source": [
    "cursor.execute('create table xyzbusinesssolution.teamkoushik(employeeid INT(20),firstname VARCHAR(100),lastname VARCHAR(100),intime INT(20),outtime INT(20),teabreak1 INT(20),teabreak2 INT(20),lunchtime INT(20),bio INT(20),callcount INT(30),qualityscore INT(20),catscore INT(20))')"
   ]
  },
  {
   "cell_type": "code",
   "execution_count": 30,
   "id": "9d2b23fb",
   "metadata": {},
   "outputs": [],
   "source": [
    "cursor.execute('insert into xyzbusinesssolution.teamkoushik values(311125,\"sarfaraj\",\"ahmed\",1302,2200,15,15,25,5,103,93,100)')\n",
    "cursor.execute('insert into xyzbusinesssolution.teamkoushik values(202509,\"sunny\",\"kumar\",1310,2210,15,12,22,8,106,100,95)')\n",
    "cursor.execute('insert into xyzbusinesssolution.teamkoushik values(289781,\"poulami\",\"ghoshal\",1300,2200,15,12,22,8,180,91,100)')\n",
    "cursor.execute('insert into xyzbusinesssolution.teamkoushik values(396785,\"kiran\",\"mishra\",1301,2210,15,15,22,8,210,85,100)')\n",
    "cursor.execute('insert into xyzbusinesssolution.teamkoushik values(330250,\"monali\",\"sen\",1330,2210,15,15,22,8,195,100,100)')"
   ]
  },
  {
   "cell_type": "code",
   "execution_count": 31,
   "id": "bb0e606a",
   "metadata": {},
   "outputs": [],
   "source": [
    "mydb.commit()"
   ]
  },
  {
   "cell_type": "code",
   "execution_count": 32,
   "id": "f02b45c6",
   "metadata": {},
   "outputs": [],
   "source": [
    "cursor.execute(\"select * from xyzbusinesssolution.teamkoushik\")"
   ]
  },
  {
   "cell_type": "code",
   "execution_count": 33,
   "id": "2717beb3",
   "metadata": {},
   "outputs": [
    {
     "data": {
      "text/plain": [
       "[(311125, 'sarfaraj', 'ahmed', 1302, 2200, 15, 15, 25, 5, 103, 93, 100),\n",
       " (202509, 'sunny', 'kumar', 1310, 2210, 15, 12, 22, 8, 106, 100, 95),\n",
       " (289781, 'poulami', 'ghoshal', 1300, 2200, 15, 12, 22, 8, 180, 91, 100),\n",
       " (396785, 'kiran', 'mishra', 1301, 2210, 15, 15, 22, 8, 210, 85, 100),\n",
       " (330250, 'monali', 'sen', 1330, 2210, 15, 15, 22, 8, 195, 100, 100)]"
      ]
     },
     "execution_count": 33,
     "metadata": {},
     "output_type": "execute_result"
    }
   ],
   "source": [
    "cursor.fetchall()"
   ]
  },
  {
   "cell_type": "code",
   "execution_count": 34,
   "id": "1b5bccad",
   "metadata": {},
   "outputs": [],
   "source": [
    "mydb.commit()"
   ]
  },
  {
   "cell_type": "code",
   "execution_count": 35,
   "id": "49348e5f",
   "metadata": {},
   "outputs": [],
   "source": [
    "import pandas as pd"
   ]
  },
  {
   "cell_type": "code",
   "execution_count": 39,
   "id": "b38d5b18",
   "metadata": {},
   "outputs": [],
   "source": [
    "df_first =pd.read_sql(\"select * from  xyzbusinesssolution.teamgouri\",mydb)"
   ]
  },
  {
   "cell_type": "code",
   "execution_count": 40,
   "id": "ab94512e",
   "metadata": {},
   "outputs": [
    {
     "data": {
      "text/html": [
       "<div>\n",
       "<style scoped>\n",
       "    .dataframe tbody tr th:only-of-type {\n",
       "        vertical-align: middle;\n",
       "    }\n",
       "\n",
       "    .dataframe tbody tr th {\n",
       "        vertical-align: top;\n",
       "    }\n",
       "\n",
       "    .dataframe thead th {\n",
       "        text-align: right;\n",
       "    }\n",
       "</style>\n",
       "<table border=\"1\" class=\"dataframe\">\n",
       "  <thead>\n",
       "    <tr style=\"text-align: right;\">\n",
       "      <th></th>\n",
       "      <th>employeeid</th>\n",
       "      <th>firstname</th>\n",
       "      <th>lastname</th>\n",
       "      <th>intime</th>\n",
       "      <th>outtime</th>\n",
       "      <th>teabreak1</th>\n",
       "      <th>teabreak2</th>\n",
       "      <th>lunchtime</th>\n",
       "      <th>bio</th>\n",
       "      <th>callcount</th>\n",
       "      <th>qualityscore</th>\n",
       "      <th>catscore</th>\n",
       "    </tr>\n",
       "  </thead>\n",
       "  <tbody>\n",
       "    <tr>\n",
       "      <th>0</th>\n",
       "      <td>312509</td>\n",
       "      <td>monoj</td>\n",
       "      <td>mondal</td>\n",
       "      <td>1300</td>\n",
       "      <td>2200</td>\n",
       "      <td>15</td>\n",
       "      <td>15</td>\n",
       "      <td>25</td>\n",
       "      <td>5</td>\n",
       "      <td>120</td>\n",
       "      <td>93</td>\n",
       "      <td>90</td>\n",
       "    </tr>\n",
       "    <tr>\n",
       "      <th>1</th>\n",
       "      <td>362519</td>\n",
       "      <td>sudanshu</td>\n",
       "      <td>kumar</td>\n",
       "      <td>1310</td>\n",
       "      <td>2210</td>\n",
       "      <td>15</td>\n",
       "      <td>12</td>\n",
       "      <td>22</td>\n",
       "      <td>8</td>\n",
       "      <td>105</td>\n",
       "      <td>85</td>\n",
       "      <td>95</td>\n",
       "    </tr>\n",
       "    <tr>\n",
       "      <th>2</th>\n",
       "      <td>202507</td>\n",
       "      <td>souvick</td>\n",
       "      <td>dey</td>\n",
       "      <td>1300</td>\n",
       "      <td>2200</td>\n",
       "      <td>15</td>\n",
       "      <td>12</td>\n",
       "      <td>22</td>\n",
       "      <td>8</td>\n",
       "      <td>120</td>\n",
       "      <td>72</td>\n",
       "      <td>72</td>\n",
       "    </tr>\n",
       "    <tr>\n",
       "      <th>3</th>\n",
       "      <td>230250</td>\n",
       "      <td>kiran</td>\n",
       "      <td>dutt</td>\n",
       "      <td>1301</td>\n",
       "      <td>2210</td>\n",
       "      <td>15</td>\n",
       "      <td>15</td>\n",
       "      <td>22</td>\n",
       "      <td>8</td>\n",
       "      <td>120</td>\n",
       "      <td>85</td>\n",
       "      <td>100</td>\n",
       "    </tr>\n",
       "    <tr>\n",
       "      <th>4</th>\n",
       "      <td>302509</td>\n",
       "      <td>subhankar</td>\n",
       "      <td>mondal</td>\n",
       "      <td>1300</td>\n",
       "      <td>2200</td>\n",
       "      <td>15</td>\n",
       "      <td>12</td>\n",
       "      <td>22</td>\n",
       "      <td>8</td>\n",
       "      <td>125</td>\n",
       "      <td>83</td>\n",
       "      <td>100</td>\n",
       "    </tr>\n",
       "  </tbody>\n",
       "</table>\n",
       "</div>"
      ],
      "text/plain": [
       "   employeeid  firstname lastname  intime  outtime  teabreak1  teabreak2  \\\n",
       "0      312509      monoj   mondal    1300     2200         15         15   \n",
       "1      362519   sudanshu    kumar    1310     2210         15         12   \n",
       "2      202507    souvick      dey    1300     2200         15         12   \n",
       "3      230250      kiran     dutt    1301     2210         15         15   \n",
       "4      302509  subhankar   mondal    1300     2200         15         12   \n",
       "\n",
       "   lunchtime  bio  callcount  qualityscore  catscore  \n",
       "0         25    5        120            93        90  \n",
       "1         22    8        105            85        95  \n",
       "2         22    8        120            72        72  \n",
       "3         22    8        120            85       100  \n",
       "4         22    8        125            83       100  "
      ]
     },
     "execution_count": 40,
     "metadata": {},
     "output_type": "execute_result"
    }
   ],
   "source": [
    "df_first"
   ]
  },
  {
   "cell_type": "code",
   "execution_count": 41,
   "id": "7e21d74e",
   "metadata": {},
   "outputs": [],
   "source": [
    "df_second =pd.read_sql(\" select * from xyzbusinesssolution.teamriya\",mydb)"
   ]
  },
  {
   "cell_type": "code",
   "execution_count": 42,
   "id": "87e292d2",
   "metadata": {},
   "outputs": [
    {
     "data": {
      "text/html": [
       "<div>\n",
       "<style scoped>\n",
       "    .dataframe tbody tr th:only-of-type {\n",
       "        vertical-align: middle;\n",
       "    }\n",
       "\n",
       "    .dataframe tbody tr th {\n",
       "        vertical-align: top;\n",
       "    }\n",
       "\n",
       "    .dataframe thead th {\n",
       "        text-align: right;\n",
       "    }\n",
       "</style>\n",
       "<table border=\"1\" class=\"dataframe\">\n",
       "  <thead>\n",
       "    <tr style=\"text-align: right;\">\n",
       "      <th></th>\n",
       "      <th>employeeid</th>\n",
       "      <th>firstname</th>\n",
       "      <th>lastname</th>\n",
       "      <th>intime</th>\n",
       "      <th>outtime</th>\n",
       "      <th>teabreak1</th>\n",
       "      <th>teabreak2</th>\n",
       "      <th>lunchtime</th>\n",
       "      <th>bio</th>\n",
       "      <th>callcount</th>\n",
       "      <th>qualityscore</th>\n",
       "      <th>catscore</th>\n",
       "    </tr>\n",
       "  </thead>\n",
       "  <tbody>\n",
       "    <tr>\n",
       "      <th>0</th>\n",
       "      <td>395429</td>\n",
       "      <td>sakhi</td>\n",
       "      <td>prasad</td>\n",
       "      <td>1300</td>\n",
       "      <td>2200</td>\n",
       "      <td>15</td>\n",
       "      <td>15</td>\n",
       "      <td>25</td>\n",
       "      <td>5</td>\n",
       "      <td>98</td>\n",
       "      <td>93</td>\n",
       "      <td>100</td>\n",
       "    </tr>\n",
       "    <tr>\n",
       "      <th>1</th>\n",
       "      <td>372511</td>\n",
       "      <td>sonakshi</td>\n",
       "      <td>kumar</td>\n",
       "      <td>1310</td>\n",
       "      <td>2210</td>\n",
       "      <td>15</td>\n",
       "      <td>12</td>\n",
       "      <td>22</td>\n",
       "      <td>8</td>\n",
       "      <td>105</td>\n",
       "      <td>100</td>\n",
       "      <td>95</td>\n",
       "    </tr>\n",
       "    <tr>\n",
       "      <th>2</th>\n",
       "      <td>212507</td>\n",
       "      <td>sonam</td>\n",
       "      <td>dey</td>\n",
       "      <td>1300</td>\n",
       "      <td>2200</td>\n",
       "      <td>15</td>\n",
       "      <td>12</td>\n",
       "      <td>22</td>\n",
       "      <td>8</td>\n",
       "      <td>160</td>\n",
       "      <td>72</td>\n",
       "      <td>100</td>\n",
       "    </tr>\n",
       "    <tr>\n",
       "      <th>3</th>\n",
       "      <td>230251</td>\n",
       "      <td>kiran</td>\n",
       "      <td>pant</td>\n",
       "      <td>1301</td>\n",
       "      <td>2210</td>\n",
       "      <td>15</td>\n",
       "      <td>15</td>\n",
       "      <td>22</td>\n",
       "      <td>8</td>\n",
       "      <td>180</td>\n",
       "      <td>85</td>\n",
       "      <td>100</td>\n",
       "    </tr>\n",
       "    <tr>\n",
       "      <th>4</th>\n",
       "      <td>330250</td>\n",
       "      <td>monali</td>\n",
       "      <td>dutt</td>\n",
       "      <td>1301</td>\n",
       "      <td>2210</td>\n",
       "      <td>15</td>\n",
       "      <td>15</td>\n",
       "      <td>22</td>\n",
       "      <td>8</td>\n",
       "      <td>84</td>\n",
       "      <td>95</td>\n",
       "      <td>100</td>\n",
       "    </tr>\n",
       "  </tbody>\n",
       "</table>\n",
       "</div>"
      ],
      "text/plain": [
       "   employeeid firstname lastname  intime  outtime  teabreak1  teabreak2  \\\n",
       "0      395429     sakhi   prasad    1300     2200         15         15   \n",
       "1      372511  sonakshi    kumar    1310     2210         15         12   \n",
       "2      212507     sonam      dey    1300     2200         15         12   \n",
       "3      230251     kiran     pant    1301     2210         15         15   \n",
       "4      330250    monali     dutt    1301     2210         15         15   \n",
       "\n",
       "   lunchtime  bio  callcount  qualityscore  catscore  \n",
       "0         25    5         98            93       100  \n",
       "1         22    8        105           100        95  \n",
       "2         22    8        160            72       100  \n",
       "3         22    8        180            85       100  \n",
       "4         22    8         84            95       100  "
      ]
     },
     "execution_count": 42,
     "metadata": {},
     "output_type": "execute_result"
    }
   ],
   "source": [
    "df_second"
   ]
  },
  {
   "cell_type": "code",
   "execution_count": 43,
   "id": "8ba2581a",
   "metadata": {},
   "outputs": [],
   "source": [
    "df_third =pd.read_sql(\"select * from xyzbusinesssolution.teamkoushik\",mydb)"
   ]
  },
  {
   "cell_type": "code",
   "execution_count": 44,
   "id": "758e98dc",
   "metadata": {},
   "outputs": [
    {
     "data": {
      "text/html": [
       "<div>\n",
       "<style scoped>\n",
       "    .dataframe tbody tr th:only-of-type {\n",
       "        vertical-align: middle;\n",
       "    }\n",
       "\n",
       "    .dataframe tbody tr th {\n",
       "        vertical-align: top;\n",
       "    }\n",
       "\n",
       "    .dataframe thead th {\n",
       "        text-align: right;\n",
       "    }\n",
       "</style>\n",
       "<table border=\"1\" class=\"dataframe\">\n",
       "  <thead>\n",
       "    <tr style=\"text-align: right;\">\n",
       "      <th></th>\n",
       "      <th>employeeid</th>\n",
       "      <th>firstname</th>\n",
       "      <th>lastname</th>\n",
       "      <th>intime</th>\n",
       "      <th>outtime</th>\n",
       "      <th>teabreak1</th>\n",
       "      <th>teabreak2</th>\n",
       "      <th>lunchtime</th>\n",
       "      <th>bio</th>\n",
       "      <th>callcount</th>\n",
       "      <th>qualityscore</th>\n",
       "      <th>catscore</th>\n",
       "    </tr>\n",
       "  </thead>\n",
       "  <tbody>\n",
       "    <tr>\n",
       "      <th>0</th>\n",
       "      <td>311125</td>\n",
       "      <td>sarfaraj</td>\n",
       "      <td>ahmed</td>\n",
       "      <td>1302</td>\n",
       "      <td>2200</td>\n",
       "      <td>15</td>\n",
       "      <td>15</td>\n",
       "      <td>25</td>\n",
       "      <td>5</td>\n",
       "      <td>103</td>\n",
       "      <td>93</td>\n",
       "      <td>100</td>\n",
       "    </tr>\n",
       "    <tr>\n",
       "      <th>1</th>\n",
       "      <td>202509</td>\n",
       "      <td>sunny</td>\n",
       "      <td>kumar</td>\n",
       "      <td>1310</td>\n",
       "      <td>2210</td>\n",
       "      <td>15</td>\n",
       "      <td>12</td>\n",
       "      <td>22</td>\n",
       "      <td>8</td>\n",
       "      <td>106</td>\n",
       "      <td>100</td>\n",
       "      <td>95</td>\n",
       "    </tr>\n",
       "    <tr>\n",
       "      <th>2</th>\n",
       "      <td>289781</td>\n",
       "      <td>poulami</td>\n",
       "      <td>ghoshal</td>\n",
       "      <td>1300</td>\n",
       "      <td>2200</td>\n",
       "      <td>15</td>\n",
       "      <td>12</td>\n",
       "      <td>22</td>\n",
       "      <td>8</td>\n",
       "      <td>180</td>\n",
       "      <td>91</td>\n",
       "      <td>100</td>\n",
       "    </tr>\n",
       "    <tr>\n",
       "      <th>3</th>\n",
       "      <td>396785</td>\n",
       "      <td>kiran</td>\n",
       "      <td>mishra</td>\n",
       "      <td>1301</td>\n",
       "      <td>2210</td>\n",
       "      <td>15</td>\n",
       "      <td>15</td>\n",
       "      <td>22</td>\n",
       "      <td>8</td>\n",
       "      <td>210</td>\n",
       "      <td>85</td>\n",
       "      <td>100</td>\n",
       "    </tr>\n",
       "    <tr>\n",
       "      <th>4</th>\n",
       "      <td>330250</td>\n",
       "      <td>monali</td>\n",
       "      <td>sen</td>\n",
       "      <td>1330</td>\n",
       "      <td>2210</td>\n",
       "      <td>15</td>\n",
       "      <td>15</td>\n",
       "      <td>22</td>\n",
       "      <td>8</td>\n",
       "      <td>195</td>\n",
       "      <td>100</td>\n",
       "      <td>100</td>\n",
       "    </tr>\n",
       "  </tbody>\n",
       "</table>\n",
       "</div>"
      ],
      "text/plain": [
       "   employeeid firstname lastname  intime  outtime  teabreak1  teabreak2  \\\n",
       "0      311125  sarfaraj    ahmed    1302     2200         15         15   \n",
       "1      202509     sunny    kumar    1310     2210         15         12   \n",
       "2      289781   poulami  ghoshal    1300     2200         15         12   \n",
       "3      396785     kiran   mishra    1301     2210         15         15   \n",
       "4      330250    monali      sen    1330     2210         15         15   \n",
       "\n",
       "   lunchtime  bio  callcount  qualityscore  catscore  \n",
       "0         25    5        103            93       100  \n",
       "1         22    8        106           100        95  \n",
       "2         22    8        180            91       100  \n",
       "3         22    8        210            85       100  \n",
       "4         22    8        195           100       100  "
      ]
     },
     "execution_count": 44,
     "metadata": {},
     "output_type": "execute_result"
    }
   ],
   "source": [
    "df_third"
   ]
  },
  {
   "cell_type": "code",
   "execution_count": 64,
   "id": "3325a075",
   "metadata": {},
   "outputs": [],
   "source": [
    "merged_df = pd.merge(df_first,df_second,how='outer',on=['employeeid','firstname','lastname','intime','outtime','teabreak1','teabreak2','lunchtime','bio','callcount','qualityscore','catscore'])"
   ]
  },
  {
   "cell_type": "code",
   "execution_count": 65,
   "id": "d9dd417a",
   "metadata": {},
   "outputs": [
    {
     "data": {
      "text/html": [
       "<div>\n",
       "<style scoped>\n",
       "    .dataframe tbody tr th:only-of-type {\n",
       "        vertical-align: middle;\n",
       "    }\n",
       "\n",
       "    .dataframe tbody tr th {\n",
       "        vertical-align: top;\n",
       "    }\n",
       "\n",
       "    .dataframe thead th {\n",
       "        text-align: right;\n",
       "    }\n",
       "</style>\n",
       "<table border=\"1\" class=\"dataframe\">\n",
       "  <thead>\n",
       "    <tr style=\"text-align: right;\">\n",
       "      <th></th>\n",
       "      <th>employeeid</th>\n",
       "      <th>firstname</th>\n",
       "      <th>lastname</th>\n",
       "      <th>intime</th>\n",
       "      <th>outtime</th>\n",
       "      <th>teabreak1</th>\n",
       "      <th>teabreak2</th>\n",
       "      <th>lunchtime</th>\n",
       "      <th>bio</th>\n",
       "      <th>callcount</th>\n",
       "      <th>qualityscore</th>\n",
       "      <th>catscore</th>\n",
       "    </tr>\n",
       "  </thead>\n",
       "  <tbody>\n",
       "    <tr>\n",
       "      <th>0</th>\n",
       "      <td>312509</td>\n",
       "      <td>monoj</td>\n",
       "      <td>mondal</td>\n",
       "      <td>1300</td>\n",
       "      <td>2200</td>\n",
       "      <td>15</td>\n",
       "      <td>15</td>\n",
       "      <td>25</td>\n",
       "      <td>5</td>\n",
       "      <td>120</td>\n",
       "      <td>93</td>\n",
       "      <td>90</td>\n",
       "    </tr>\n",
       "    <tr>\n",
       "      <th>1</th>\n",
       "      <td>362519</td>\n",
       "      <td>sudanshu</td>\n",
       "      <td>kumar</td>\n",
       "      <td>1310</td>\n",
       "      <td>2210</td>\n",
       "      <td>15</td>\n",
       "      <td>12</td>\n",
       "      <td>22</td>\n",
       "      <td>8</td>\n",
       "      <td>105</td>\n",
       "      <td>85</td>\n",
       "      <td>95</td>\n",
       "    </tr>\n",
       "    <tr>\n",
       "      <th>2</th>\n",
       "      <td>202507</td>\n",
       "      <td>souvick</td>\n",
       "      <td>dey</td>\n",
       "      <td>1300</td>\n",
       "      <td>2200</td>\n",
       "      <td>15</td>\n",
       "      <td>12</td>\n",
       "      <td>22</td>\n",
       "      <td>8</td>\n",
       "      <td>120</td>\n",
       "      <td>72</td>\n",
       "      <td>72</td>\n",
       "    </tr>\n",
       "    <tr>\n",
       "      <th>3</th>\n",
       "      <td>230250</td>\n",
       "      <td>kiran</td>\n",
       "      <td>dutt</td>\n",
       "      <td>1301</td>\n",
       "      <td>2210</td>\n",
       "      <td>15</td>\n",
       "      <td>15</td>\n",
       "      <td>22</td>\n",
       "      <td>8</td>\n",
       "      <td>120</td>\n",
       "      <td>85</td>\n",
       "      <td>100</td>\n",
       "    </tr>\n",
       "    <tr>\n",
       "      <th>4</th>\n",
       "      <td>302509</td>\n",
       "      <td>subhankar</td>\n",
       "      <td>mondal</td>\n",
       "      <td>1300</td>\n",
       "      <td>2200</td>\n",
       "      <td>15</td>\n",
       "      <td>12</td>\n",
       "      <td>22</td>\n",
       "      <td>8</td>\n",
       "      <td>125</td>\n",
       "      <td>83</td>\n",
       "      <td>100</td>\n",
       "    </tr>\n",
       "    <tr>\n",
       "      <th>5</th>\n",
       "      <td>395429</td>\n",
       "      <td>sakhi</td>\n",
       "      <td>prasad</td>\n",
       "      <td>1300</td>\n",
       "      <td>2200</td>\n",
       "      <td>15</td>\n",
       "      <td>15</td>\n",
       "      <td>25</td>\n",
       "      <td>5</td>\n",
       "      <td>98</td>\n",
       "      <td>93</td>\n",
       "      <td>100</td>\n",
       "    </tr>\n",
       "    <tr>\n",
       "      <th>6</th>\n",
       "      <td>372511</td>\n",
       "      <td>sonakshi</td>\n",
       "      <td>kumar</td>\n",
       "      <td>1310</td>\n",
       "      <td>2210</td>\n",
       "      <td>15</td>\n",
       "      <td>12</td>\n",
       "      <td>22</td>\n",
       "      <td>8</td>\n",
       "      <td>105</td>\n",
       "      <td>100</td>\n",
       "      <td>95</td>\n",
       "    </tr>\n",
       "    <tr>\n",
       "      <th>7</th>\n",
       "      <td>212507</td>\n",
       "      <td>sonam</td>\n",
       "      <td>dey</td>\n",
       "      <td>1300</td>\n",
       "      <td>2200</td>\n",
       "      <td>15</td>\n",
       "      <td>12</td>\n",
       "      <td>22</td>\n",
       "      <td>8</td>\n",
       "      <td>160</td>\n",
       "      <td>72</td>\n",
       "      <td>100</td>\n",
       "    </tr>\n",
       "    <tr>\n",
       "      <th>8</th>\n",
       "      <td>230251</td>\n",
       "      <td>kiran</td>\n",
       "      <td>pant</td>\n",
       "      <td>1301</td>\n",
       "      <td>2210</td>\n",
       "      <td>15</td>\n",
       "      <td>15</td>\n",
       "      <td>22</td>\n",
       "      <td>8</td>\n",
       "      <td>180</td>\n",
       "      <td>85</td>\n",
       "      <td>100</td>\n",
       "    </tr>\n",
       "    <tr>\n",
       "      <th>9</th>\n",
       "      <td>330250</td>\n",
       "      <td>monali</td>\n",
       "      <td>dutt</td>\n",
       "      <td>1301</td>\n",
       "      <td>2210</td>\n",
       "      <td>15</td>\n",
       "      <td>15</td>\n",
       "      <td>22</td>\n",
       "      <td>8</td>\n",
       "      <td>84</td>\n",
       "      <td>95</td>\n",
       "      <td>100</td>\n",
       "    </tr>\n",
       "  </tbody>\n",
       "</table>\n",
       "</div>"
      ],
      "text/plain": [
       "   employeeid  firstname lastname  intime  outtime  teabreak1  teabreak2  \\\n",
       "0      312509      monoj   mondal    1300     2200         15         15   \n",
       "1      362519   sudanshu    kumar    1310     2210         15         12   \n",
       "2      202507    souvick      dey    1300     2200         15         12   \n",
       "3      230250      kiran     dutt    1301     2210         15         15   \n",
       "4      302509  subhankar   mondal    1300     2200         15         12   \n",
       "5      395429      sakhi   prasad    1300     2200         15         15   \n",
       "6      372511   sonakshi    kumar    1310     2210         15         12   \n",
       "7      212507      sonam      dey    1300     2200         15         12   \n",
       "8      230251      kiran     pant    1301     2210         15         15   \n",
       "9      330250     monali     dutt    1301     2210         15         15   \n",
       "\n",
       "   lunchtime  bio  callcount  qualityscore  catscore  \n",
       "0         25    5        120            93        90  \n",
       "1         22    8        105            85        95  \n",
       "2         22    8        120            72        72  \n",
       "3         22    8        120            85       100  \n",
       "4         22    8        125            83       100  \n",
       "5         25    5         98            93       100  \n",
       "6         22    8        105           100        95  \n",
       "7         22    8        160            72       100  \n",
       "8         22    8        180            85       100  \n",
       "9         22    8         84            95       100  "
      ]
     },
     "execution_count": 65,
     "metadata": {},
     "output_type": "execute_result"
    }
   ],
   "source": [
    "merged_df"
   ]
  },
  {
   "cell_type": "code",
   "execution_count": 66,
   "id": "013bc382",
   "metadata": {},
   "outputs": [],
   "source": [
    "merged_df1 =pd.merge(merged_df,df_third, how='outer',on =['employeeid','firstname','lastname','intime','outtime','teabreak1','teabreak2','lunchtime','bio','callcount','qualityscore','catscore'])"
   ]
  },
  {
   "cell_type": "code",
   "execution_count": 67,
   "id": "cd40b321",
   "metadata": {},
   "outputs": [
    {
     "data": {
      "text/html": [
       "<div>\n",
       "<style scoped>\n",
       "    .dataframe tbody tr th:only-of-type {\n",
       "        vertical-align: middle;\n",
       "    }\n",
       "\n",
       "    .dataframe tbody tr th {\n",
       "        vertical-align: top;\n",
       "    }\n",
       "\n",
       "    .dataframe thead th {\n",
       "        text-align: right;\n",
       "    }\n",
       "</style>\n",
       "<table border=\"1\" class=\"dataframe\">\n",
       "  <thead>\n",
       "    <tr style=\"text-align: right;\">\n",
       "      <th></th>\n",
       "      <th>employeeid</th>\n",
       "      <th>firstname</th>\n",
       "      <th>lastname</th>\n",
       "      <th>intime</th>\n",
       "      <th>outtime</th>\n",
       "      <th>teabreak1</th>\n",
       "      <th>teabreak2</th>\n",
       "      <th>lunchtime</th>\n",
       "      <th>bio</th>\n",
       "      <th>callcount</th>\n",
       "      <th>qualityscore</th>\n",
       "      <th>catscore</th>\n",
       "    </tr>\n",
       "  </thead>\n",
       "  <tbody>\n",
       "    <tr>\n",
       "      <th>0</th>\n",
       "      <td>312509</td>\n",
       "      <td>monoj</td>\n",
       "      <td>mondal</td>\n",
       "      <td>1300</td>\n",
       "      <td>2200</td>\n",
       "      <td>15</td>\n",
       "      <td>15</td>\n",
       "      <td>25</td>\n",
       "      <td>5</td>\n",
       "      <td>120</td>\n",
       "      <td>93</td>\n",
       "      <td>90</td>\n",
       "    </tr>\n",
       "    <tr>\n",
       "      <th>1</th>\n",
       "      <td>362519</td>\n",
       "      <td>sudanshu</td>\n",
       "      <td>kumar</td>\n",
       "      <td>1310</td>\n",
       "      <td>2210</td>\n",
       "      <td>15</td>\n",
       "      <td>12</td>\n",
       "      <td>22</td>\n",
       "      <td>8</td>\n",
       "      <td>105</td>\n",
       "      <td>85</td>\n",
       "      <td>95</td>\n",
       "    </tr>\n",
       "    <tr>\n",
       "      <th>2</th>\n",
       "      <td>202507</td>\n",
       "      <td>souvick</td>\n",
       "      <td>dey</td>\n",
       "      <td>1300</td>\n",
       "      <td>2200</td>\n",
       "      <td>15</td>\n",
       "      <td>12</td>\n",
       "      <td>22</td>\n",
       "      <td>8</td>\n",
       "      <td>120</td>\n",
       "      <td>72</td>\n",
       "      <td>72</td>\n",
       "    </tr>\n",
       "    <tr>\n",
       "      <th>3</th>\n",
       "      <td>230250</td>\n",
       "      <td>kiran</td>\n",
       "      <td>dutt</td>\n",
       "      <td>1301</td>\n",
       "      <td>2210</td>\n",
       "      <td>15</td>\n",
       "      <td>15</td>\n",
       "      <td>22</td>\n",
       "      <td>8</td>\n",
       "      <td>120</td>\n",
       "      <td>85</td>\n",
       "      <td>100</td>\n",
       "    </tr>\n",
       "    <tr>\n",
       "      <th>4</th>\n",
       "      <td>302509</td>\n",
       "      <td>subhankar</td>\n",
       "      <td>mondal</td>\n",
       "      <td>1300</td>\n",
       "      <td>2200</td>\n",
       "      <td>15</td>\n",
       "      <td>12</td>\n",
       "      <td>22</td>\n",
       "      <td>8</td>\n",
       "      <td>125</td>\n",
       "      <td>83</td>\n",
       "      <td>100</td>\n",
       "    </tr>\n",
       "    <tr>\n",
       "      <th>5</th>\n",
       "      <td>395429</td>\n",
       "      <td>sakhi</td>\n",
       "      <td>prasad</td>\n",
       "      <td>1300</td>\n",
       "      <td>2200</td>\n",
       "      <td>15</td>\n",
       "      <td>15</td>\n",
       "      <td>25</td>\n",
       "      <td>5</td>\n",
       "      <td>98</td>\n",
       "      <td>93</td>\n",
       "      <td>100</td>\n",
       "    </tr>\n",
       "    <tr>\n",
       "      <th>6</th>\n",
       "      <td>372511</td>\n",
       "      <td>sonakshi</td>\n",
       "      <td>kumar</td>\n",
       "      <td>1310</td>\n",
       "      <td>2210</td>\n",
       "      <td>15</td>\n",
       "      <td>12</td>\n",
       "      <td>22</td>\n",
       "      <td>8</td>\n",
       "      <td>105</td>\n",
       "      <td>100</td>\n",
       "      <td>95</td>\n",
       "    </tr>\n",
       "    <tr>\n",
       "      <th>7</th>\n",
       "      <td>212507</td>\n",
       "      <td>sonam</td>\n",
       "      <td>dey</td>\n",
       "      <td>1300</td>\n",
       "      <td>2200</td>\n",
       "      <td>15</td>\n",
       "      <td>12</td>\n",
       "      <td>22</td>\n",
       "      <td>8</td>\n",
       "      <td>160</td>\n",
       "      <td>72</td>\n",
       "      <td>100</td>\n",
       "    </tr>\n",
       "    <tr>\n",
       "      <th>8</th>\n",
       "      <td>230251</td>\n",
       "      <td>kiran</td>\n",
       "      <td>pant</td>\n",
       "      <td>1301</td>\n",
       "      <td>2210</td>\n",
       "      <td>15</td>\n",
       "      <td>15</td>\n",
       "      <td>22</td>\n",
       "      <td>8</td>\n",
       "      <td>180</td>\n",
       "      <td>85</td>\n",
       "      <td>100</td>\n",
       "    </tr>\n",
       "    <tr>\n",
       "      <th>9</th>\n",
       "      <td>330250</td>\n",
       "      <td>monali</td>\n",
       "      <td>dutt</td>\n",
       "      <td>1301</td>\n",
       "      <td>2210</td>\n",
       "      <td>15</td>\n",
       "      <td>15</td>\n",
       "      <td>22</td>\n",
       "      <td>8</td>\n",
       "      <td>84</td>\n",
       "      <td>95</td>\n",
       "      <td>100</td>\n",
       "    </tr>\n",
       "    <tr>\n",
       "      <th>10</th>\n",
       "      <td>311125</td>\n",
       "      <td>sarfaraj</td>\n",
       "      <td>ahmed</td>\n",
       "      <td>1302</td>\n",
       "      <td>2200</td>\n",
       "      <td>15</td>\n",
       "      <td>15</td>\n",
       "      <td>25</td>\n",
       "      <td>5</td>\n",
       "      <td>103</td>\n",
       "      <td>93</td>\n",
       "      <td>100</td>\n",
       "    </tr>\n",
       "    <tr>\n",
       "      <th>11</th>\n",
       "      <td>202509</td>\n",
       "      <td>sunny</td>\n",
       "      <td>kumar</td>\n",
       "      <td>1310</td>\n",
       "      <td>2210</td>\n",
       "      <td>15</td>\n",
       "      <td>12</td>\n",
       "      <td>22</td>\n",
       "      <td>8</td>\n",
       "      <td>106</td>\n",
       "      <td>100</td>\n",
       "      <td>95</td>\n",
       "    </tr>\n",
       "    <tr>\n",
       "      <th>12</th>\n",
       "      <td>289781</td>\n",
       "      <td>poulami</td>\n",
       "      <td>ghoshal</td>\n",
       "      <td>1300</td>\n",
       "      <td>2200</td>\n",
       "      <td>15</td>\n",
       "      <td>12</td>\n",
       "      <td>22</td>\n",
       "      <td>8</td>\n",
       "      <td>180</td>\n",
       "      <td>91</td>\n",
       "      <td>100</td>\n",
       "    </tr>\n",
       "    <tr>\n",
       "      <th>13</th>\n",
       "      <td>396785</td>\n",
       "      <td>kiran</td>\n",
       "      <td>mishra</td>\n",
       "      <td>1301</td>\n",
       "      <td>2210</td>\n",
       "      <td>15</td>\n",
       "      <td>15</td>\n",
       "      <td>22</td>\n",
       "      <td>8</td>\n",
       "      <td>210</td>\n",
       "      <td>85</td>\n",
       "      <td>100</td>\n",
       "    </tr>\n",
       "    <tr>\n",
       "      <th>14</th>\n",
       "      <td>330250</td>\n",
       "      <td>monali</td>\n",
       "      <td>sen</td>\n",
       "      <td>1330</td>\n",
       "      <td>2210</td>\n",
       "      <td>15</td>\n",
       "      <td>15</td>\n",
       "      <td>22</td>\n",
       "      <td>8</td>\n",
       "      <td>195</td>\n",
       "      <td>100</td>\n",
       "      <td>100</td>\n",
       "    </tr>\n",
       "  </tbody>\n",
       "</table>\n",
       "</div>"
      ],
      "text/plain": [
       "    employeeid  firstname lastname  intime  outtime  teabreak1  teabreak2  \\\n",
       "0       312509      monoj   mondal    1300     2200         15         15   \n",
       "1       362519   sudanshu    kumar    1310     2210         15         12   \n",
       "2       202507    souvick      dey    1300     2200         15         12   \n",
       "3       230250      kiran     dutt    1301     2210         15         15   \n",
       "4       302509  subhankar   mondal    1300     2200         15         12   \n",
       "5       395429      sakhi   prasad    1300     2200         15         15   \n",
       "6       372511   sonakshi    kumar    1310     2210         15         12   \n",
       "7       212507      sonam      dey    1300     2200         15         12   \n",
       "8       230251      kiran     pant    1301     2210         15         15   \n",
       "9       330250     monali     dutt    1301     2210         15         15   \n",
       "10      311125   sarfaraj    ahmed    1302     2200         15         15   \n",
       "11      202509      sunny    kumar    1310     2210         15         12   \n",
       "12      289781    poulami  ghoshal    1300     2200         15         12   \n",
       "13      396785      kiran   mishra    1301     2210         15         15   \n",
       "14      330250     monali      sen    1330     2210         15         15   \n",
       "\n",
       "    lunchtime  bio  callcount  qualityscore  catscore  \n",
       "0          25    5        120            93        90  \n",
       "1          22    8        105            85        95  \n",
       "2          22    8        120            72        72  \n",
       "3          22    8        120            85       100  \n",
       "4          22    8        125            83       100  \n",
       "5          25    5         98            93       100  \n",
       "6          22    8        105           100        95  \n",
       "7          22    8        160            72       100  \n",
       "8          22    8        180            85       100  \n",
       "9          22    8         84            95       100  \n",
       "10         25    5        103            93       100  \n",
       "11         22    8        106           100        95  \n",
       "12         22    8        180            91       100  \n",
       "13         22    8        210            85       100  \n",
       "14         22    8        195           100       100  "
      ]
     },
     "execution_count": 67,
     "metadata": {},
     "output_type": "execute_result"
    }
   ],
   "source": [
    "merged_df1"
   ]
  },
  {
   "cell_type": "code",
   "execution_count": 68,
   "id": "7b383115",
   "metadata": {},
   "outputs": [],
   "source": [
    "cursor.execute('create table xyzbusinesssolution.teamtarget(late INT(30),loginhr INT(30),calltargetmeet INT(40),quality INT(20),catscore INT(30),pmiamount INT(40))')"
   ]
  },
  {
   "cell_type": "code",
   "execution_count": 70,
   "id": "057fa492",
   "metadata": {},
   "outputs": [],
   "source": [
    "cursor.execute('insert into xyzbusinesssolution.teamtarget values(0,9,155,90,95,850)')\n",
    "cursor.execute('insert into xyzbusinesssolution.teamtarget values(1,9,125,85,89,650)')\n",
    "cursor.execute('insert into xyzbusinesssolution.teamtarget values(2,9,105,79,85,450)')\n",
    "cursor.execute('insert into xyzbusinesssolution.teamtarget values(3,9,100,75,82,275)')\n",
    "cursor.execute('insert into xyzbusinesssolution.teamtarget values(4,9,89,100,100,0)')"
   ]
  },
  {
   "cell_type": "code",
   "execution_count": 71,
   "id": "ac6936b0",
   "metadata": {},
   "outputs": [],
   "source": [
    "mydb.commit()"
   ]
  },
  {
   "cell_type": "code",
   "execution_count": 72,
   "id": "9476eaa2",
   "metadata": {},
   "outputs": [],
   "source": [
    "cursor.execute('select * from xyzbusinesssolution.teamtarget')"
   ]
  },
  {
   "cell_type": "code",
   "execution_count": 73,
   "id": "7789a3e8",
   "metadata": {},
   "outputs": [
    {
     "data": {
      "text/plain": [
       "[(0, 9, 155, 90, 95, 850),\n",
       " (1, 9, 125, 85, 89, 650),\n",
       " (2, 9, 105, 79, 85, 450),\n",
       " (3, 9, 100, 75, 82, 275),\n",
       " (4, 9, 89, 100, 100, 0)]"
      ]
     },
     "execution_count": 73,
     "metadata": {},
     "output_type": "execute_result"
    }
   ],
   "source": [
    "cursor.fetchall()"
   ]
  },
  {
   "cell_type": "code",
   "execution_count": 74,
   "id": "162e2364",
   "metadata": {},
   "outputs": [
    {
     "data": {
      "text/html": [
       "<div>\n",
       "<style scoped>\n",
       "    .dataframe tbody tr th:only-of-type {\n",
       "        vertical-align: middle;\n",
       "    }\n",
       "\n",
       "    .dataframe tbody tr th {\n",
       "        vertical-align: top;\n",
       "    }\n",
       "\n",
       "    .dataframe thead th {\n",
       "        text-align: right;\n",
       "    }\n",
       "</style>\n",
       "<table border=\"1\" class=\"dataframe\">\n",
       "  <thead>\n",
       "    <tr style=\"text-align: right;\">\n",
       "      <th></th>\n",
       "      <th>late</th>\n",
       "      <th>loginhr</th>\n",
       "      <th>calltargetmeet</th>\n",
       "      <th>quality</th>\n",
       "      <th>catscore</th>\n",
       "      <th>pmiamount</th>\n",
       "    </tr>\n",
       "  </thead>\n",
       "  <tbody>\n",
       "    <tr>\n",
       "      <th>0</th>\n",
       "      <td>0</td>\n",
       "      <td>9</td>\n",
       "      <td>155</td>\n",
       "      <td>90</td>\n",
       "      <td>95</td>\n",
       "      <td>850</td>\n",
       "    </tr>\n",
       "    <tr>\n",
       "      <th>1</th>\n",
       "      <td>1</td>\n",
       "      <td>9</td>\n",
       "      <td>125</td>\n",
       "      <td>85</td>\n",
       "      <td>89</td>\n",
       "      <td>650</td>\n",
       "    </tr>\n",
       "    <tr>\n",
       "      <th>2</th>\n",
       "      <td>2</td>\n",
       "      <td>9</td>\n",
       "      <td>105</td>\n",
       "      <td>79</td>\n",
       "      <td>85</td>\n",
       "      <td>450</td>\n",
       "    </tr>\n",
       "    <tr>\n",
       "      <th>3</th>\n",
       "      <td>3</td>\n",
       "      <td>9</td>\n",
       "      <td>100</td>\n",
       "      <td>75</td>\n",
       "      <td>82</td>\n",
       "      <td>275</td>\n",
       "    </tr>\n",
       "    <tr>\n",
       "      <th>4</th>\n",
       "      <td>4</td>\n",
       "      <td>9</td>\n",
       "      <td>89</td>\n",
       "      <td>100</td>\n",
       "      <td>100</td>\n",
       "      <td>0</td>\n",
       "    </tr>\n",
       "  </tbody>\n",
       "</table>\n",
       "</div>"
      ],
      "text/plain": [
       "   late  loginhr  calltargetmeet  quality  catscore  pmiamount\n",
       "0     0        9             155       90        95        850\n",
       "1     1        9             125       85        89        650\n",
       "2     2        9             105       79        85        450\n",
       "3     3        9             100       75        82        275\n",
       "4     4        9              89      100       100          0"
      ]
     },
     "execution_count": 74,
     "metadata": {},
     "output_type": "execute_result"
    }
   ],
   "source": [
    "pd.read_sql('select * from xyzbusinesssolution.teamtarget',mydb)"
   ]
  },
  {
   "cell_type": "code",
   "execution_count": null,
   "id": "ec8d3632",
   "metadata": {},
   "outputs": [],
   "source": []
  }
 ],
 "metadata": {
  "kernelspec": {
   "display_name": "Python 3 (ipykernel)",
   "language": "python",
   "name": "python3"
  },
  "language_info": {
   "codemirror_mode": {
    "name": "ipython",
    "version": 3
   },
   "file_extension": ".py",
   "mimetype": "text/x-python",
   "name": "python",
   "nbconvert_exporter": "python",
   "pygments_lexer": "ipython3",
   "version": "3.9.7"
  }
 },
 "nbformat": 4,
 "nbformat_minor": 5
}
